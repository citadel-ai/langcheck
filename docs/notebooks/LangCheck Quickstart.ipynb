{
  "cells": [
    {
      "cell_type": "markdown",
      "metadata": {
        "id": "7vxDQ97sjzeU"
      },
      "source": [
        "# LangCheck Quickstart"
      ]
    },
    {
      "cell_type": "code",
      "execution_count": null,
      "metadata": {
        "colab": {
          "base_uri": "https://localhost:8080/"
        },
        "id": "lMUiVKL4jrUF",
        "outputId": "1bc9c724-5c08-4f8e-8417-17c43c6ffa7f"
      },
      "outputs": [],
      "source": [
        "!pip install langcheck"
      ]
    },
    {
      "cell_type": "code",
      "execution_count": null,
      "metadata": {
        "colab": {
          "base_uri": "https://localhost:8080/",
          "height": 224
        },
        "id": "cN43IwBljy6Z",
        "outputId": "0d080576-02a9-43e1-eabc-82d1bc0b82ff"
      },
      "outputs": [],
      "source": [
        "import langcheck\n",
        "\n",
        "# Generate text with any LLM library\n",
        "generated_outputs = [\n",
        "    'Black cat the',\n",
        "    'The black cat is.',\n",
        "    'The black cat is sitting',\n",
        "    'The big black cat is sitting on the fence',\n",
        "    'Usually, the big black cat is sitting on the old wooden fence.'\n",
        "]\n",
        "\n",
        "# Check text quality and get results as a DataFrame\n",
        "langcheck.metrics.fluency(generated_outputs)"
      ]
    },
    {
      "cell_type": "code",
      "execution_count": null,
      "metadata": {
        "colab": {
          "base_uri": "https://localhost:8080/",
          "height": 241
        },
        "id": "18Tp_-UbkC2H",
        "outputId": "783653db-1d5d-45c3-ae28-46d10cd7bc05"
      },
      "outputs": [],
      "source": [
        "fluency_values = langcheck.metrics.fluency(generated_outputs)\n",
        "fluency_values > 0.5"
      ]
    },
    {
      "cell_type": "code",
      "execution_count": null,
      "metadata": {
        "id": "LxI11l9HkHd4"
      },
      "outputs": [],
      "source": [
        "assert fluency_values > 0.01"
      ]
    },
    {
      "cell_type": "code",
      "execution_count": null,
      "metadata": {
        "colab": {
          "base_uri": "https://localhost:8080/",
          "height": 52
        },
        "id": "xUAHZmoLkKTZ",
        "outputId": "2cef760b-e0db-4c6f-c945-ff1ca6726882"
      },
      "outputs": [],
      "source": [
        "# We need to set jupyter_mode='external' for Colab\n",
        "# fluency_values.scatter()\n",
        "fluency_values.scatter(jupyter_mode='external')"
      ]
    },
    {
      "cell_type": "code",
      "execution_count": null,
      "metadata": {
        "colab": {
          "base_uri": "https://localhost:8080/",
          "height": 206
        },
        "id": "chXuZ2g6y5FA",
        "outputId": "92548773-08d9-4909-e9ec-5c0d0a636d0e"
      },
      "outputs": [],
      "source": [
        "fluency_values.to_df()"
      ]
    },
    {
      "cell_type": "code",
      "execution_count": null,
      "metadata": {
        "colab": {
          "base_uri": "https://localhost:8080/",
          "height": 206
        },
        "id": "9AXS4ZxV1Gkn",
        "outputId": "6dd24cc7-5381-44ad-aebc-0714d9281301"
      },
      "outputs": [],
      "source": [
        "(fluency_values > 0.5).to_df()"
      ]
    },
    {
      "cell_type": "code",
      "execution_count": null,
      "metadata": {},
      "outputs": [],
      "source": []
    },
    {
      "cell_type": "code",
      "execution_count": null,
      "metadata": {},
      "outputs": [],
      "source": [
        "import langcheck"
      ]
    },
    {
      "cell_type": "code",
      "execution_count": null,
      "metadata": {
        "colab": {
          "base_uri": "https://localhost:8080/",
          "height": 98
        },
        "id": "75kehtfH5NHb",
        "outputId": "2baa8cf8-a570-4859-9970-ecf53f4998c9"
      },
      "outputs": [],
      "source": [
        "langcheck.metrics.fluency('The black cat is sitting')"
      ]
    },
    {
      "cell_type": "code",
      "execution_count": null,
      "metadata": {
        "id": "SvoDwpMu5QKL"
      },
      "outputs": [],
      "source": [
        "prompt = 'write my friend an email inviting her to my birthday party'\n",
        "typo_prompts = langcheck.augment.keyboard_typo(prompt, num_perturbations=3)\n",
        "female_prompts = langcheck.augment.gender(prompt, to_gender='male')"
      ]
    }
  ],
  "metadata": {
    "colab": {
      "provenance": []
    },
    "kernelspec": {
      "display_name": "Python 3",
      "name": "python3"
    },
    "language_info": {
      "codemirror_mode": {
        "name": "ipython",
        "version": 3
      },
      "file_extension": ".py",
      "mimetype": "text/x-python",
      "name": "python",
      "nbconvert_exporter": "python",
      "pygments_lexer": "ipython3",
      "version": "3.8.17"
    }
  },
  "nbformat": 4,
  "nbformat_minor": 0
}
